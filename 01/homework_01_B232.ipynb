{
 "cells": [
  {
   "cell_type": "markdown",
   "metadata": {},
   "source": [
    "# Úkol č. 1 - redukce dimenzionality a binární klasifikace\n",
    "\n",
    "  * **Deadline je 22. 4. 2024, 23:59:59**, pokud odevzdáte úkol do 29. 4. 2024, 23:59:59, budete penalizování -12 body, pozdější odevzdání je bez bodu.\n",
    "  * V rámci tohoto úkolu se musíte vypořádat s vysokou dimenzí problému a poté úspěšně aplikovat vhodný klasfikační model.\n",
    "    \n",
    "> **Úkoly jsou zadány tak, aby Vám daly prostor pro invenci. Vymyslet _jak přesně_ budete úkol řešit, je důležitou součástí zadání a originalita či nápaditost bude také hodnocena!**\n",
    "\n",
    "Využívejte buňky typu `Markdown` k vysvětlování Vašeho postupu. Za nepřehlednost budou strhávány body.\n",
    "\n",
    "## Zdroj dat\n",
    "\n",
    " * Zdrojem dat jsou soubory `train.csv` a `evaluate.csv`.\n",
    " * Jedná se o obrázky 28x28 pixelů ve stupních šedi, které byly získány z [Fashion Mnist datasetu](https://www.kaggle.com/datasets/zalando-research/fashionmnist).\n",
    " * Soubor `train.csv` obsahuje trénovací data.\n",
    " * Cílová (vysvětlovaná) proměnná se jmenuje **label**.\n",
    " * Soubor `evaluate.csv` obsahuje testovací data bez hodnot skutečných labelů.\n",
    "\n",
    "## Pokyny k vypracování\n",
    "\n",
    "**Body zadání**, za jejichž (poctivé) vypracování získáte **25 bodů**:\n",
    "  * V notebooku načtěte data ze souboru `train.csv`. Vhodným způsobem si je rozdělte na podmnožiny, které Vám poslouží pro trénování, porovnávání modelů a následnou predikci výkonnosti finálního modelu.\n",
    "  * Proveďte základní průzkum dat a svá pozorování diskutujte. Některé obrázky také zobrazte.\n",
    "  * Postupně aplikujte modely **SVM**, **naivní Bayesův klasifikátor** a **LDA**, přičemž pro každý z nich:\n",
    "      * Okomentujte vhodnost daného modelu pro daný typ úlohy.\n",
    "      * Vyberte si hlavní hyperparametry k ladění (pokud model má hyperparametry) a najděte jejich nejlepší hodnoty.\n",
    "      * Experimentujte se standardizací/normalizací dat.\n",
    "      * U SVM vyzkoušejte alespoň dvě různé jádrové funkce.\n",
    "      * Získané výsledky vždy řádně okomentujte.\n",
    "\n",
    "\n",
    "  * Postupně aplikujte metody redukce dimenzionality PCA a LLE, přičemž pro každou z nich: \n",
    "      * Zopakujte předchozí kroky a pokuste modely vylepšit\n",
    "      * Zkoumejte jaká dimenze je z hlediska výkonnosti finálního modelu nejlepší.\n",
    "      * Získané výsledky vždy řádně okomentujte.\n",
    "    \n",
    "  * Ze všech zkoušených možností vyberte finální model a odhadněte, jakou přesnost můžete očekávat na nových datech, která jste doposud neměli k dispozici.\n",
    "  \n",
    "  * Nakonec načtěte vyhodnocovací data ze souboru`evaluate.csv`. Pomocí finálního modelu napočítejte predikce pro tyto data (vysvětlovaná proměnná v nich již není). Vytvořte soubor `results.csv`, ve kterém získané predikce uložíte do sloupce **label** a identifikátory do sloupce **ID**. Tento soubor též odevzdejte (uložte do projektu vedle notebooku).\n",
    "   \n",
    "   * Ukázka prvních řádků souboru `results.csv`:\n",
    "  \n",
    "```\n",
    "ID,label\n",
    "0,0\n",
    "1,1\n",
    "...\n",
    "```\n",
    "\n",
    "## Poznámky k odevzdání\n",
    "\n",
    "  * Řiďte se pokyny ze stránky https://courses.fit.cvut.cz/BI-ML2/homeworks/index.html.\n",
    "  * Vytvořte i csv soubor `results.csv` s predikcemi a uložte ho v rámci projektu vedle ipython notebooku."
   ]
  },
  {
   "cell_type": "code",
   "execution_count": 1,
   "metadata": {},
   "outputs": [],
   "source": [
    "### odtud už je to Vaše\n",
    "\n"
   ]
  },
  {
   "cell_type": "markdown",
   "metadata": {},
   "source": [
    "# ŘEŠENÍ"
   ]
  },
  {
   "cell_type": "markdown",
   "metadata": {},
   "source": [
    "## I. Předzpracování dat"
   ]
  },
  {
   "cell_type": "markdown",
   "metadata": {},
   "source": [
    "Importuju potřebné knihovny"
   ]
  },
  {
   "cell_type": "code",
   "execution_count": 2,
   "metadata": {},
   "outputs": [],
   "source": [
    "import numpy as np\n",
    "import pandas as pd\n",
    "import matplotlib.pyplot as plt\n",
    "import seaborn as sns\n",
    "import math"
   ]
  },
  {
   "cell_type": "markdown",
   "metadata": {},
   "source": [
    "Načítam si dataset ze csv-souboru a podívám se na informace o něm"
   ]
  },
  {
   "cell_type": "code",
   "execution_count": 3,
   "metadata": {},
   "outputs": [
    {
     "data": {
      "text/plain": [
       "(2400, 785)"
      ]
     },
     "metadata": {},
     "output_type": "display_data"
    },
    {
     "data": {
      "text/html": [
       "<div>\n",
       "<style scoped>\n",
       "    .dataframe tbody tr th:only-of-type {\n",
       "        vertical-align: middle;\n",
       "    }\n",
       "\n",
       "    .dataframe tbody tr th {\n",
       "        vertical-align: top;\n",
       "    }\n",
       "\n",
       "    .dataframe thead th {\n",
       "        text-align: right;\n",
       "    }\n",
       "</style>\n",
       "<table border=\"1\" class=\"dataframe\">\n",
       "  <thead>\n",
       "    <tr style=\"text-align: right;\">\n",
       "      <th></th>\n",
       "      <th>label</th>\n",
       "      <th>pixel1</th>\n",
       "      <th>pixel2</th>\n",
       "      <th>pixel3</th>\n",
       "      <th>pixel4</th>\n",
       "      <th>pixel5</th>\n",
       "      <th>pixel6</th>\n",
       "      <th>pixel7</th>\n",
       "      <th>pixel8</th>\n",
       "      <th>pixel9</th>\n",
       "      <th>...</th>\n",
       "      <th>pixel775</th>\n",
       "      <th>pixel776</th>\n",
       "      <th>pixel777</th>\n",
       "      <th>pixel778</th>\n",
       "      <th>pixel779</th>\n",
       "      <th>pixel780</th>\n",
       "      <th>pixel781</th>\n",
       "      <th>pixel782</th>\n",
       "      <th>pixel783</th>\n",
       "      <th>pixel784</th>\n",
       "    </tr>\n",
       "  </thead>\n",
       "  <tbody>\n",
       "    <tr>\n",
       "      <th>0</th>\n",
       "      <td>1</td>\n",
       "      <td>0</td>\n",
       "      <td>0</td>\n",
       "      <td>0</td>\n",
       "      <td>0</td>\n",
       "      <td>0</td>\n",
       "      <td>0</td>\n",
       "      <td>0</td>\n",
       "      <td>0</td>\n",
       "      <td>0</td>\n",
       "      <td>...</td>\n",
       "      <td>208</td>\n",
       "      <td>122</td>\n",
       "      <td>0</td>\n",
       "      <td>0</td>\n",
       "      <td>0</td>\n",
       "      <td>0</td>\n",
       "      <td>0</td>\n",
       "      <td>0</td>\n",
       "      <td>0</td>\n",
       "      <td>0</td>\n",
       "    </tr>\n",
       "    <tr>\n",
       "      <th>1</th>\n",
       "      <td>0</td>\n",
       "      <td>0</td>\n",
       "      <td>0</td>\n",
       "      <td>0</td>\n",
       "      <td>0</td>\n",
       "      <td>0</td>\n",
       "      <td>0</td>\n",
       "      <td>0</td>\n",
       "      <td>0</td>\n",
       "      <td>0</td>\n",
       "      <td>...</td>\n",
       "      <td>0</td>\n",
       "      <td>0</td>\n",
       "      <td>0</td>\n",
       "      <td>0</td>\n",
       "      <td>0</td>\n",
       "      <td>0</td>\n",
       "      <td>0</td>\n",
       "      <td>0</td>\n",
       "      <td>0</td>\n",
       "      <td>0</td>\n",
       "    </tr>\n",
       "    <tr>\n",
       "      <th>2</th>\n",
       "      <td>1</td>\n",
       "      <td>0</td>\n",
       "      <td>0</td>\n",
       "      <td>0</td>\n",
       "      <td>0</td>\n",
       "      <td>0</td>\n",
       "      <td>0</td>\n",
       "      <td>0</td>\n",
       "      <td>0</td>\n",
       "      <td>1</td>\n",
       "      <td>...</td>\n",
       "      <td>75</td>\n",
       "      <td>11</td>\n",
       "      <td>0</td>\n",
       "      <td>1</td>\n",
       "      <td>0</td>\n",
       "      <td>0</td>\n",
       "      <td>0</td>\n",
       "      <td>0</td>\n",
       "      <td>0</td>\n",
       "      <td>0</td>\n",
       "    </tr>\n",
       "    <tr>\n",
       "      <th>3</th>\n",
       "      <td>0</td>\n",
       "      <td>0</td>\n",
       "      <td>0</td>\n",
       "      <td>0</td>\n",
       "      <td>0</td>\n",
       "      <td>0</td>\n",
       "      <td>0</td>\n",
       "      <td>0</td>\n",
       "      <td>0</td>\n",
       "      <td>0</td>\n",
       "      <td>...</td>\n",
       "      <td>106</td>\n",
       "      <td>103</td>\n",
       "      <td>76</td>\n",
       "      <td>0</td>\n",
       "      <td>0</td>\n",
       "      <td>0</td>\n",
       "      <td>0</td>\n",
       "      <td>0</td>\n",
       "      <td>0</td>\n",
       "      <td>0</td>\n",
       "    </tr>\n",
       "    <tr>\n",
       "      <th>4</th>\n",
       "      <td>1</td>\n",
       "      <td>0</td>\n",
       "      <td>0</td>\n",
       "      <td>0</td>\n",
       "      <td>0</td>\n",
       "      <td>0</td>\n",
       "      <td>0</td>\n",
       "      <td>0</td>\n",
       "      <td>0</td>\n",
       "      <td>0</td>\n",
       "      <td>...</td>\n",
       "      <td>0</td>\n",
       "      <td>0</td>\n",
       "      <td>0</td>\n",
       "      <td>0</td>\n",
       "      <td>0</td>\n",
       "      <td>0</td>\n",
       "      <td>0</td>\n",
       "      <td>0</td>\n",
       "      <td>0</td>\n",
       "      <td>0</td>\n",
       "    </tr>\n",
       "  </tbody>\n",
       "</table>\n",
       "<p>5 rows × 785 columns</p>\n",
       "</div>"
      ],
      "text/plain": [
       "   label  pixel1  pixel2  pixel3  pixel4  pixel5  pixel6  pixel7  pixel8  \\\n",
       "0      1       0       0       0       0       0       0       0       0   \n",
       "1      0       0       0       0       0       0       0       0       0   \n",
       "2      1       0       0       0       0       0       0       0       0   \n",
       "3      0       0       0       0       0       0       0       0       0   \n",
       "4      1       0       0       0       0       0       0       0       0   \n",
       "\n",
       "   pixel9  ...  pixel775  pixel776  pixel777  pixel778  pixel779  pixel780  \\\n",
       "0       0  ...       208       122         0         0         0         0   \n",
       "1       0  ...         0         0         0         0         0         0   \n",
       "2       1  ...        75        11         0         1         0         0   \n",
       "3       0  ...       106       103        76         0         0         0   \n",
       "4       0  ...         0         0         0         0         0         0   \n",
       "\n",
       "   pixel781  pixel782  pixel783  pixel784  \n",
       "0         0         0         0         0  \n",
       "1         0         0         0         0  \n",
       "2         0         0         0         0  \n",
       "3         0         0         0         0  \n",
       "4         0         0         0         0  \n",
       "\n",
       "[5 rows x 785 columns]"
      ]
     },
     "metadata": {},
     "output_type": "display_data"
    },
    {
     "name": "stdout",
     "output_type": "stream",
     "text": [
      "<class 'pandas.core.frame.DataFrame'>\n",
      "RangeIndex: 2400 entries, 0 to 2399\n",
      "Columns: 785 entries, label to pixel784\n",
      "dtypes: int64(785)\n",
      "memory usage: 14.4 MB\n"
     ]
    },
    {
     "data": {
      "text/plain": [
       "None"
      ]
     },
     "metadata": {},
     "output_type": "display_data"
    },
    {
     "data": {
      "text/plain": [
       "label        2\n",
       "pixel1       1\n",
       "pixel2       1\n",
       "pixel3       1\n",
       "pixel4       3\n",
       "            ..\n",
       "pixel780    22\n",
       "pixel781     9\n",
       "pixel782     3\n",
       "pixel783     2\n",
       "pixel784     1\n",
       "Length: 785, dtype: int64"
      ]
     },
     "metadata": {},
     "output_type": "display_data"
    },
    {
     "data": {
      "text/html": [
       "<div>\n",
       "<style scoped>\n",
       "    .dataframe tbody tr th:only-of-type {\n",
       "        vertical-align: middle;\n",
       "    }\n",
       "\n",
       "    .dataframe tbody tr th {\n",
       "        vertical-align: top;\n",
       "    }\n",
       "\n",
       "    .dataframe thead th {\n",
       "        text-align: right;\n",
       "    }\n",
       "</style>\n",
       "<table border=\"1\" class=\"dataframe\">\n",
       "  <thead>\n",
       "    <tr style=\"text-align: right;\">\n",
       "      <th></th>\n",
       "      <th>label</th>\n",
       "      <th>pixel1</th>\n",
       "      <th>pixel2</th>\n",
       "      <th>pixel3</th>\n",
       "      <th>pixel4</th>\n",
       "      <th>pixel5</th>\n",
       "      <th>pixel6</th>\n",
       "      <th>pixel7</th>\n",
       "      <th>pixel8</th>\n",
       "      <th>pixel9</th>\n",
       "      <th>...</th>\n",
       "      <th>pixel775</th>\n",
       "      <th>pixel776</th>\n",
       "      <th>pixel777</th>\n",
       "      <th>pixel778</th>\n",
       "      <th>pixel779</th>\n",
       "      <th>pixel780</th>\n",
       "      <th>pixel781</th>\n",
       "      <th>pixel782</th>\n",
       "      <th>pixel783</th>\n",
       "      <th>pixel784</th>\n",
       "    </tr>\n",
       "  </thead>\n",
       "  <tbody>\n",
       "    <tr>\n",
       "      <th>count</th>\n",
       "      <td>2400.000000</td>\n",
       "      <td>2400.0</td>\n",
       "      <td>2400.0</td>\n",
       "      <td>2400.0</td>\n",
       "      <td>2400.000000</td>\n",
       "      <td>2400.000000</td>\n",
       "      <td>2400.000000</td>\n",
       "      <td>2400.000000</td>\n",
       "      <td>2400.000000</td>\n",
       "      <td>2400.000000</td>\n",
       "      <td>...</td>\n",
       "      <td>2400.000000</td>\n",
       "      <td>2400.000000</td>\n",
       "      <td>2400.000000</td>\n",
       "      <td>2400.000000</td>\n",
       "      <td>2400.000000</td>\n",
       "      <td>2400.000000</td>\n",
       "      <td>2400.00000</td>\n",
       "      <td>2400.000000</td>\n",
       "      <td>2400.000000</td>\n",
       "      <td>2400.0</td>\n",
       "    </tr>\n",
       "    <tr>\n",
       "      <th>mean</th>\n",
       "      <td>0.484167</td>\n",
       "      <td>0.0</td>\n",
       "      <td>0.0</td>\n",
       "      <td>0.0</td>\n",
       "      <td>0.002083</td>\n",
       "      <td>0.098333</td>\n",
       "      <td>0.302500</td>\n",
       "      <td>0.846250</td>\n",
       "      <td>2.256250</td>\n",
       "      <td>6.025000</td>\n",
       "      <td>...</td>\n",
       "      <td>65.379583</td>\n",
       "      <td>26.975417</td>\n",
       "      <td>9.651667</td>\n",
       "      <td>3.307500</td>\n",
       "      <td>1.249167</td>\n",
       "      <td>0.460417</td>\n",
       "      <td>0.11250</td>\n",
       "      <td>0.038750</td>\n",
       "      <td>0.010833</td>\n",
       "      <td>0.0</td>\n",
       "    </tr>\n",
       "    <tr>\n",
       "      <th>std</th>\n",
       "      <td>0.499853</td>\n",
       "      <td>0.0</td>\n",
       "      <td>0.0</td>\n",
       "      <td>0.0</td>\n",
       "      <td>0.067682</td>\n",
       "      <td>1.895871</td>\n",
       "      <td>5.014792</td>\n",
       "      <td>9.262155</td>\n",
       "      <td>15.491603</td>\n",
       "      <td>25.358871</td>\n",
       "      <td>...</td>\n",
       "      <td>66.874570</td>\n",
       "      <td>49.060424</td>\n",
       "      <td>30.540885</td>\n",
       "      <td>18.067668</td>\n",
       "      <td>11.443957</td>\n",
       "      <td>6.363199</td>\n",
       "      <td>2.82043</td>\n",
       "      <td>1.742655</td>\n",
       "      <td>0.530723</td>\n",
       "      <td>0.0</td>\n",
       "    </tr>\n",
       "    <tr>\n",
       "      <th>min</th>\n",
       "      <td>0.000000</td>\n",
       "      <td>0.0</td>\n",
       "      <td>0.0</td>\n",
       "      <td>0.0</td>\n",
       "      <td>0.000000</td>\n",
       "      <td>0.000000</td>\n",
       "      <td>0.000000</td>\n",
       "      <td>0.000000</td>\n",
       "      <td>0.000000</td>\n",
       "      <td>0.000000</td>\n",
       "      <td>...</td>\n",
       "      <td>0.000000</td>\n",
       "      <td>0.000000</td>\n",
       "      <td>0.000000</td>\n",
       "      <td>0.000000</td>\n",
       "      <td>0.000000</td>\n",
       "      <td>0.000000</td>\n",
       "      <td>0.00000</td>\n",
       "      <td>0.000000</td>\n",
       "      <td>0.000000</td>\n",
       "      <td>0.0</td>\n",
       "    </tr>\n",
       "    <tr>\n",
       "      <th>25%</th>\n",
       "      <td>0.000000</td>\n",
       "      <td>0.0</td>\n",
       "      <td>0.0</td>\n",
       "      <td>0.0</td>\n",
       "      <td>0.000000</td>\n",
       "      <td>0.000000</td>\n",
       "      <td>0.000000</td>\n",
       "      <td>0.000000</td>\n",
       "      <td>0.000000</td>\n",
       "      <td>0.000000</td>\n",
       "      <td>...</td>\n",
       "      <td>0.000000</td>\n",
       "      <td>0.000000</td>\n",
       "      <td>0.000000</td>\n",
       "      <td>0.000000</td>\n",
       "      <td>0.000000</td>\n",
       "      <td>0.000000</td>\n",
       "      <td>0.00000</td>\n",
       "      <td>0.000000</td>\n",
       "      <td>0.000000</td>\n",
       "      <td>0.0</td>\n",
       "    </tr>\n",
       "    <tr>\n",
       "      <th>50%</th>\n",
       "      <td>0.000000</td>\n",
       "      <td>0.0</td>\n",
       "      <td>0.0</td>\n",
       "      <td>0.0</td>\n",
       "      <td>0.000000</td>\n",
       "      <td>0.000000</td>\n",
       "      <td>0.000000</td>\n",
       "      <td>0.000000</td>\n",
       "      <td>0.000000</td>\n",
       "      <td>0.000000</td>\n",
       "      <td>...</td>\n",
       "      <td>48.000000</td>\n",
       "      <td>0.000000</td>\n",
       "      <td>0.000000</td>\n",
       "      <td>0.000000</td>\n",
       "      <td>0.000000</td>\n",
       "      <td>0.000000</td>\n",
       "      <td>0.00000</td>\n",
       "      <td>0.000000</td>\n",
       "      <td>0.000000</td>\n",
       "      <td>0.0</td>\n",
       "    </tr>\n",
       "    <tr>\n",
       "      <th>75%</th>\n",
       "      <td>1.000000</td>\n",
       "      <td>0.0</td>\n",
       "      <td>0.0</td>\n",
       "      <td>0.0</td>\n",
       "      <td>0.000000</td>\n",
       "      <td>0.000000</td>\n",
       "      <td>0.000000</td>\n",
       "      <td>0.000000</td>\n",
       "      <td>0.000000</td>\n",
       "      <td>0.000000</td>\n",
       "      <td>...</td>\n",
       "      <td>114.250000</td>\n",
       "      <td>35.000000</td>\n",
       "      <td>0.000000</td>\n",
       "      <td>0.000000</td>\n",
       "      <td>0.000000</td>\n",
       "      <td>0.000000</td>\n",
       "      <td>0.00000</td>\n",
       "      <td>0.000000</td>\n",
       "      <td>0.000000</td>\n",
       "      <td>0.0</td>\n",
       "    </tr>\n",
       "    <tr>\n",
       "      <th>max</th>\n",
       "      <td>1.000000</td>\n",
       "      <td>0.0</td>\n",
       "      <td>0.0</td>\n",
       "      <td>0.0</td>\n",
       "      <td>3.000000</td>\n",
       "      <td>69.000000</td>\n",
       "      <td>188.000000</td>\n",
       "      <td>189.000000</td>\n",
       "      <td>219.000000</td>\n",
       "      <td>243.000000</td>\n",
       "      <td>...</td>\n",
       "      <td>248.000000</td>\n",
       "      <td>252.000000</td>\n",
       "      <td>246.000000</td>\n",
       "      <td>212.000000</td>\n",
       "      <td>179.000000</td>\n",
       "      <td>176.000000</td>\n",
       "      <td>88.00000</td>\n",
       "      <td>85.000000</td>\n",
       "      <td>26.000000</td>\n",
       "      <td>0.0</td>\n",
       "    </tr>\n",
       "  </tbody>\n",
       "</table>\n",
       "<p>8 rows × 785 columns</p>\n",
       "</div>"
      ],
      "text/plain": [
       "             label  pixel1  pixel2  pixel3       pixel4       pixel5  \\\n",
       "count  2400.000000  2400.0  2400.0  2400.0  2400.000000  2400.000000   \n",
       "mean      0.484167     0.0     0.0     0.0     0.002083     0.098333   \n",
       "std       0.499853     0.0     0.0     0.0     0.067682     1.895871   \n",
       "min       0.000000     0.0     0.0     0.0     0.000000     0.000000   \n",
       "25%       0.000000     0.0     0.0     0.0     0.000000     0.000000   \n",
       "50%       0.000000     0.0     0.0     0.0     0.000000     0.000000   \n",
       "75%       1.000000     0.0     0.0     0.0     0.000000     0.000000   \n",
       "max       1.000000     0.0     0.0     0.0     3.000000    69.000000   \n",
       "\n",
       "            pixel6       pixel7       pixel8       pixel9  ...     pixel775  \\\n",
       "count  2400.000000  2400.000000  2400.000000  2400.000000  ...  2400.000000   \n",
       "mean      0.302500     0.846250     2.256250     6.025000  ...    65.379583   \n",
       "std       5.014792     9.262155    15.491603    25.358871  ...    66.874570   \n",
       "min       0.000000     0.000000     0.000000     0.000000  ...     0.000000   \n",
       "25%       0.000000     0.000000     0.000000     0.000000  ...     0.000000   \n",
       "50%       0.000000     0.000000     0.000000     0.000000  ...    48.000000   \n",
       "75%       0.000000     0.000000     0.000000     0.000000  ...   114.250000   \n",
       "max     188.000000   189.000000   219.000000   243.000000  ...   248.000000   \n",
       "\n",
       "          pixel776     pixel777     pixel778     pixel779     pixel780  \\\n",
       "count  2400.000000  2400.000000  2400.000000  2400.000000  2400.000000   \n",
       "mean     26.975417     9.651667     3.307500     1.249167     0.460417   \n",
       "std      49.060424    30.540885    18.067668    11.443957     6.363199   \n",
       "min       0.000000     0.000000     0.000000     0.000000     0.000000   \n",
       "25%       0.000000     0.000000     0.000000     0.000000     0.000000   \n",
       "50%       0.000000     0.000000     0.000000     0.000000     0.000000   \n",
       "75%      35.000000     0.000000     0.000000     0.000000     0.000000   \n",
       "max     252.000000   246.000000   212.000000   179.000000   176.000000   \n",
       "\n",
       "         pixel781     pixel782     pixel783  pixel784  \n",
       "count  2400.00000  2400.000000  2400.000000    2400.0  \n",
       "mean      0.11250     0.038750     0.010833       0.0  \n",
       "std       2.82043     1.742655     0.530723       0.0  \n",
       "min       0.00000     0.000000     0.000000       0.0  \n",
       "25%       0.00000     0.000000     0.000000       0.0  \n",
       "50%       0.00000     0.000000     0.000000       0.0  \n",
       "75%       0.00000     0.000000     0.000000       0.0  \n",
       "max      88.00000    85.000000    26.000000       0.0  \n",
       "\n",
       "[8 rows x 785 columns]"
      ]
     },
     "metadata": {},
     "output_type": "display_data"
    }
   ],
   "source": [
    "df = pd.read_csv('train.csv')\n",
    "display(df.shape)\n",
    "display(df.head())\n",
    "display(df.info())\n",
    "display(df.nunique())\n",
    "display(df.describe())"
   ]
  },
  {
   "cell_type": "code",
   "execution_count": 4,
   "metadata": {},
   "outputs": [
    {
     "data": {
      "text/plain": [
       "Index(['label', 'pixel1', 'pixel2', 'pixel3', 'pixel4', 'pixel5', 'pixel6',\n",
       "       'pixel7', 'pixel8', 'pixel9',\n",
       "       ...\n",
       "       'pixel775', 'pixel776', 'pixel777', 'pixel778', 'pixel779', 'pixel780',\n",
       "       'pixel781', 'pixel782', 'pixel783', 'pixel784'],\n",
       "      dtype='object', length=785)"
      ]
     },
     "execution_count": 4,
     "metadata": {},
     "output_type": "execute_result"
    }
   ],
   "source": [
    "df.columns"
   ]
  },
  {
   "cell_type": "code",
   "execution_count": 5,
   "metadata": {},
   "outputs": [
    {
     "data": {
      "text/plain": [
       "label       0\n",
       "pixel1      0\n",
       "pixel2      0\n",
       "pixel3      0\n",
       "pixel4      0\n",
       "           ..\n",
       "pixel780    0\n",
       "pixel781    0\n",
       "pixel782    0\n",
       "pixel783    0\n",
       "pixel784    0\n",
       "Length: 785, dtype: int64"
      ]
     },
     "execution_count": 5,
     "metadata": {},
     "output_type": "execute_result"
    }
   ],
   "source": [
    "df.isnull().sum(axis=0)"
   ]
  },
  {
   "cell_type": "markdown",
   "metadata": {},
   "source": [
    "Jak my můžeme vidět náš dataset neobsahuje žádná nullová data. Proto můžu klidně pracovat s daty dále."
   ]
  },
  {
   "cell_type": "markdown",
   "metadata": {},
   "source": [
    "Zobrazím několik prvních obrázků z našeho datasetu "
   ]
  },
  {
   "cell_type": "code",
   "execution_count": 6,
   "metadata": {},
   "outputs": [
    {
     "data": {
      "image/png": "[encoded data removed]",
      "text/plain": [
       "<Figure size 800x800 with 16 Axes>"
      ]
     },
     "metadata": {},
     "output_type": "display_data"
    }
   ],
   "source": [
    "fig, axs = plt.subplots(4, 4, figsize=(8,8))\n",
    "axs = axs.flatten()\n",
    "\n",
    "for image_index, ax in enumerate(axs):\n",
    "    image_pixels = df.iloc[image_index, 1:].values\n",
    "    # Reshape the pixel values into a 28x28 image\n",
    "    image = image_pixels.reshape(28, 28)\n",
    "    label_image = df['label'][image_index]\n",
    "    \n",
    "    ax.imshow(image, cmap='gray', extent=[0, 1, 0, 1])\n",
    "    ax.set_title(f\"Label: {label_image}\")\n",
    "    ax.axis('off')\n",
    "\n",
    "plt.tight_layout()  # Adjust layout to prevent overlapping\n",
    "plt.show()"
   ]
  },
  {
   "cell_type": "markdown",
   "metadata": {},
   "source": [
    "## II. Použítí modelů machine learningu"
   ]
  },
  {
   "cell_type": "markdown",
   "metadata": {},
   "source": [
    "### II(a). Rozdělení dat"
   ]
  },
  {
   "cell_type": "markdown",
   "metadata": {},
   "source": [
    "Nejperve, rozdělím si dataset na cílovou proměnnou (v našem případě to je 'Label'), kterou chci predikovat, a na matici pixelů, pomocí kterou budu predikovat."
   ]
  },
  {
   "cell_type": "code",
   "execution_count": 7,
   "metadata": {},
   "outputs": [],
   "source": [
    "from sklearn.model_selection import train_test_split\n",
    "\n",
    "Xdata = df.drop('label', axis=1)\n",
    "ydata = df['label']"
   ]
  },
  {
   "cell_type": "markdown",
   "metadata": {},
   "source": [
    "Ted' už rozdělím data na trénovací a testovací množiny v poměru 60:40."
   ]
  },
  {
   "cell_type": "code",
   "execution_count": 8,
   "metadata": {},
   "outputs": [
    {
     "data": {
      "text/plain": [
       "(1440, 784)"
      ]
     },
     "metadata": {},
     "output_type": "display_data"
    },
    {
     "data": {
      "text/plain": [
       "(1440,)"
      ]
     },
     "metadata": {},
     "output_type": "display_data"
    },
    {
     "data": {
      "text/plain": [
       "(960, 784)"
      ]
     },
     "metadata": {},
     "output_type": "display_data"
    },
    {
     "data": {
      "text/plain": [
       "(960,)"
      ]
     },
     "metadata": {},
     "output_type": "display_data"
    }
   ],
   "source": [
    "rd_seed = 100\n",
    "\n",
    "Xtrain, Xtest, ytrain, ytest = train_test_split(Xdata, ydata, test_size=0.4, random_state=rd_seed) \n",
    "display(Xtrain.shape)\n",
    "display(ytrain.shape)\n",
    "display(Xtest.shape)\n",
    "display(ytest.shape)"
   ]
  },
  {
   "cell_type": "markdown",
   "metadata": {},
   "source": [
    "Rozdělím testovací množinu na validační a testovací."
   ]
  },
  {
   "cell_type": "code",
   "execution_count": 9,
   "metadata": {},
   "outputs": [
    {
     "data": {
      "text/plain": [
       "(480, 784)"
      ]
     },
     "metadata": {},
     "output_type": "display_data"
    },
    {
     "data": {
      "text/plain": [
       "(480,)"
      ]
     },
     "metadata": {},
     "output_type": "display_data"
    },
    {
     "data": {
      "text/plain": [
       "(480, 784)"
      ]
     },
     "metadata": {},
     "output_type": "display_data"
    },
    {
     "data": {
      "text/plain": [
       "(480,)"
      ]
     },
     "metadata": {},
     "output_type": "display_data"
    }
   ],
   "source": [
    "Xval, Xtest, yval, ytest = train_test_split(Xtest, ytest, test_size=0.5, random_state=rd_seed) \n",
    "display(Xval.shape)\n",
    "display(yval.shape)\n",
    "display(Xtest.shape)\n",
    "display(ytest.shape)"
   ]
  },
  {
   "cell_type": "markdown",
   "metadata": {},
   "source": [
    "Vytvořím slovník pro naše modely a metody předzpracovávní dat"
   ]
  },
  {
   "cell_type": "code",
   "execution_count": 10,
   "metadata": {},
   "outputs": [],
   "source": [
    "accuracy = {\n",
    "    'SVM': [],\n",
    "    'GaussianNB': [],\n",
    "    'BernoulliNB': [],\n",
    "    'LDA': []\n",
    "}\n",
    "\n",
    "row_names = ['Original', 'Standard', 'MinMax', 'PCA', 'LLE']"
   ]
  },
  {
   "cell_type": "markdown",
   "metadata": {},
   "source": [
    "Applikuju metody standardizace a normalizace dat"
   ]
  },
  {
   "cell_type": "code",
   "execution_count": 11,
   "metadata": {},
   "outputs": [],
   "source": [
    "from sklearn.preprocessing import StandardScaler\n",
    "from sklearn.preprocessing import MinMaxScaler\n",
    "\n",
    "scaler_standard = StandardScaler()\n",
    "Xtrain_standard = scaler_standard.fit_transform(Xtrain)\n",
    "Xval_standard = scaler_standard.transform(Xval)\n",
    "\n",
    "\n",
    "scaler_min_max = MinMaxScaler()\n",
    "Xtrain_min_max = scaler_min_max.fit_transform(Xtrain)\n",
    "Xval_min_max = scaler_min_max.transform(Xval)"
   ]
  },
  {
   "cell_type": "markdown",
   "metadata": {},
   "source": [
    "### II(b). Implementace a použití modelů Support Vector Machine"
   ]
  },
  {
   "cell_type": "markdown",
   "metadata": {},
   "source": [
    "Použiju model Support Vector Classifier a udělám ladění hyperparametrů postupně pro původní, standardizovaná a normalizovaná data"
   ]
  },
  {
   "cell_type": "code",
   "execution_count": 12,
   "metadata": {},
   "outputs": [],
   "source": [
    "from sklearn.svm import SVC\n",
    "from sklearn.model_selection import ParameterGrid\n",
    "import sklearn.metrics as metrics\n",
    "from sklearn.metrics import mean_squared_error\n",
    "\n",
    "param_grid = {\n",
    "    'C': [0.1, 1, 10, 100, 1000, 10000],  # Regularization parameter\n",
    "    'kernel': ['linear', 'rbf', 'poly', 'sigmoid'],  # Kernel type\n",
    "    'gamma': ['scale', 'auto']  # Kernel coefficient for 'rbf' kernel\n",
    "}\n",
    "\n",
    "param_comb = ParameterGrid(param_grid)\n",
    "\n",
    "val_metric = []\n",
    "val_metric_standard = []\n",
    "val_metric_min_max = []\n",
    "\n",
    "for params in param_comb:\n",
    "    clf = SVC(**params).fit(Xtrain, ytrain)\n",
    "    val_metric.append(metrics.accuracy_score(yval, clf.predict(Xval)))\n",
    "\n",
    "    clf_stand = SVC(**params).fit(Xtrain_standard, ytrain)\n",
    "    val_metric_standard.append(metrics.accuracy_score(yval, clf_stand.predict(Xval_standard)))\n",
    "\n",
    "    clf_norm = SVC(**params).fit(Xtrain_min_max, ytrain)\n",
    "    val_metric_min_max.append(metrics.accuracy_score(yval, clf_norm.predict(Xval_min_max)))"
   ]
  },
  {
   "cell_type": "markdown",
   "metadata": {},
   "source": [
    "Hledám pro SVC applikované na původní nezpracovaná data nejlepší parametry a nejvyšší dosaženou přesnost "
   ]
  },
  {
   "cell_type": "code",
   "execution_count": 13,
   "metadata": {},
   "outputs": [
    {
     "name": "stdout",
     "output_type": "stream",
     "text": [
      "The best params for Support Vector Classifier: {'kernel': 'rbf', 'gamma': 'scale', 'C': 10}\n",
      "The best accuracy score for Support Vector Classifiert: 0.9708\n"
     ]
    }
   ],
   "source": [
    "best_params_SVC = param_comb[np.argmax(val_metric)]\n",
    "\n",
    "print(f\"The best params for Support Vector Classifier: {best_params_SVC}\")\n",
    "print(f'The best accuracy score for Support Vector Classifiert: {max(val_metric):.4f}')\n",
    "\n",
    "accuracy['SVM'].append(round(max(val_metric),6))"
   ]
  },
  {
   "cell_type": "markdown",
   "metadata": {},
   "source": [
    "Hledám pro SVC applikované na standardizovná data nejlepší parametry a nejvyšší dosaženou přesnost "
   ]
  },
  {
   "cell_type": "code",
   "execution_count": 14,
   "metadata": {},
   "outputs": [
    {
     "name": "stdout",
     "output_type": "stream",
     "text": [
      "The best params for Support Vector Classifier Standard: {'kernel': 'poly', 'gamma': 'auto', 'C': 100}\n",
      "The best accuracy score for Support Vector Classifier Standard: 0.9729\n"
     ]
    }
   ],
   "source": [
    "best_params_SVC_standard = param_comb[np.argmax(val_metric_standard)]\n",
    "\n",
    "print(f\"The best params for Support Vector Classifier Standard: {best_params_SVC_standard}\")\n",
    "print(f'The best accuracy score for Support Vector Classifier Standard: {max(val_metric_standard):.4f}')\n",
    "\n",
    "accuracy['SVM'].append(round(max(val_metric_standard),6))"
   ]
  },
  {
   "cell_type": "markdown",
   "metadata": {},
   "source": [
    "Hledám pro SVC applikované na normalizovaná pomocí metody MinMax data nejlepší parametry a nejvyšší dosaženou přesnost "
   ]
  },
  {
   "cell_type": "code",
   "execution_count": 15,
   "metadata": {},
   "outputs": [
    {
     "name": "stdout",
     "output_type": "stream",
     "text": [
      "The best params for Support Vector Classifier MinMax: {'kernel': 'linear', 'gamma': 'scale', 'C': 0.1}\n",
      "The best accuracy score for Support Vector Classifier MinMax: 0.9708\n"
     ]
    }
   ],
   "source": [
    "best_params_SVC_min_max = param_comb[np.argmax(val_metric_min_max)]\n",
    "\n",
    "print(f\"The best params for Support Vector Classifier MinMax: {best_params_SVC_min_max}\")\n",
    "print(f'The best accuracy score for Support Vector Classifier MinMax: {max(val_metric_min_max):.4f}')\n",
    "\n",
    "accuracy['SVM'].append(round(max(val_metric_min_max),6))"
   ]
  },
  {
   "cell_type": "markdown",
   "metadata": {},
   "source": [
    "Vidím, že při použití metody standardizace jsem dostal nejvyšší přesnost "
   ]
  },
  {
   "cell_type": "markdown",
   "metadata": {},
   "source": [
    "### II(с). Implementace a použití modelů naivního Bayesova klasifikátoru"
   ]
  },
  {
   "cell_type": "markdown",
   "metadata": {},
   "source": [
    "#### 1) Gaussian Naive Bayes"
   ]
  },
  {
   "cell_type": "markdown",
   "metadata": {},
   "source": [
    "Použiju model Gaussian Naive Bayes postupně pro původní, standardizovaná a normalizovaná data. U Gaussian Naive Bayes nemáme žádné hyperparametry k ladění."
   ]
  },
  {
   "cell_type": "code",
   "execution_count": 16,
   "metadata": {},
   "outputs": [
    {
     "name": "stdout",
     "output_type": "stream",
     "text": [
      "Z 480 bodů v Xval je špatně klasifikovaných: 38\n",
      "Training accuracy of Gaussian Naive Bayes: 0.9368055555555556\n",
      "Validation accuracy of Gaussian Naive Bayes: 0.9208333333333333\n"
     ]
    }
   ],
   "source": [
    "from sklearn.naive_bayes import GaussianNB\n",
    "\n",
    "clf_GaussNB = GaussianNB();\n",
    "clf_GaussNB.fit(Xtrain, ytrain);\n",
    "ypred = clf_GaussNB.predict(Xval)\n",
    "print(f\"Z {Xval.shape[0]} bodů v Xval je špatně klasifikovaných: {(yval != ypred).sum()}\")\n",
    "\n",
    "print(f\"Training accuracy of Gaussian Naive Bayes: {metrics.accuracy_score(ytrain, clf_GaussNB.predict(Xtrain))}\")\n",
    "print(f\"Validation accuracy of Gaussian Naive Bayes: {metrics.accuracy_score(yval, clf_GaussNB.predict(Xval))}\")\n",
    "\n",
    "accuracy['GaussianNB'].append(round(metrics.accuracy_score(yval, clf_GaussNB.predict(Xval)),6))"
   ]
  },
  {
   "cell_type": "code",
   "execution_count": 17,
   "metadata": {},
   "outputs": [
    {
     "name": "stdout",
     "output_type": "stream",
     "text": [
      "Z 480 bodů v Xval je špatně klasifikovaných: 34\n",
      "Trainig accuracy of Gaussian Naive Bayes Standard: 0.9402777777777778\n",
      "Validation accuracy of Gaussian Naive Bayes Standard: 0.9291666666666667\n"
     ]
    }
   ],
   "source": [
    "clf_GaussNB_standard = GaussianNB();\n",
    "clf_GaussNB_standard.fit(Xtrain_standard, ytrain);\n",
    "ypred = clf_GaussNB_standard.predict(Xval_standard)\n",
    "print(f\"Z {Xval_standard.shape[0]} bodů v Xval je špatně klasifikovaných: {(yval != ypred).sum()}\")\n",
    "\n",
    "print(f\"Trainig accuracy of Gaussian Naive Bayes Standard: {metrics.accuracy_score(ytrain, clf_GaussNB_standard.predict(Xtrain_standard))}\")\n",
    "print(f\"Validation accuracy of Gaussian Naive Bayes Standard: {metrics.accuracy_score(yval, clf_GaussNB_standard.predict(Xval_standard))}\")\n",
    "\n",
    "accuracy['GaussianNB'].append(round(metrics.accuracy_score(yval, clf_GaussNB_standard.predict(Xval_standard)),6))"
   ]
  },
  {
   "cell_type": "code",
   "execution_count": 18,
   "metadata": {},
   "outputs": [
    {
     "name": "stdout",
     "output_type": "stream",
     "text": [
      "Z 480 bodů v Xval je špatně klasifikovaných: 35\n",
      "Trainig accuracy of Gaussian Naive Bayes MinMax: 0.9381944444444444\n",
      "Validation accuracy of Gaussian Naive Bayes MinMax: 0.9270833333333334\n"
     ]
    }
   ],
   "source": [
    "clf_GaussNB_min_max = GaussianNB();\n",
    "clf_GaussNB_min_max.fit(Xtrain_min_max, ytrain);\n",
    "ypred = clf_GaussNB_min_max.predict(Xval_min_max)\n",
    "print(f\"Z {Xval_min_max.shape[0]} bodů v Xval je špatně klasifikovaných: {(yval != ypred).sum()}\")\n",
    "\n",
    "print(f\"Trainig accuracy of Gaussian Naive Bayes MinMax: {metrics.accuracy_score(ytrain, clf_GaussNB_min_max.predict(Xtrain_min_max))}\")\n",
    "print(f\"Validation accuracy of Gaussian Naive Bayes MinMax: {metrics.accuracy_score(yval, clf_GaussNB_min_max.predict(Xval_min_max))}\")\n",
    "\n",
    "accuracy['GaussianNB'].append(round(metrics.accuracy_score(yval, clf_GaussNB_min_max.predict(Xval_min_max)),6))"
   ]
  },
  {
   "cell_type": "markdown",
   "metadata": {},
   "source": [
    "Vidím, že při použití metody standardizace jsem dostal nejvyšší přesnost pro Gaussian Naive Bayes"
   ]
  },
  {
   "cell_type": "markdown",
   "metadata": {},
   "source": [
    "#### 2) Bernoulli Naive Bayes"
   ]
  },
  {
   "cell_type": "markdown",
   "metadata": {},
   "source": [
    "Použiju model Bernoulli Naive Bayes. U bernoulli Naive Bayes nemáme žádné hyperparametry k ladění. Ale před applikací modelu Bernoulli Naive Bayes musím binarizovat naše data, protože tento model je applikovat pouze na binární data."
   ]
  },
  {
   "cell_type": "code",
   "execution_count": 19,
   "metadata": {},
   "outputs": [],
   "source": [
    "from sklearn.naive_bayes import BernoulliNB\n",
    "from sklearn.preprocessing import Binarizer\n",
    "\n",
    "val_metric_bnb = {}\n",
    "\n",
    "for threshold in range(0,255):\n",
    "    binarizer = Binarizer(threshold=threshold)  # binarization by threshold\n",
    "    Xtrain_binar = binarizer.fit_transform(Xtrain)\n",
    "    Xval_binar = binarizer.transform(Xval)\n",
    "    \n",
    "    clf_Bernoulli_NB = BernoulliNB();\n",
    "    clf_Bernoulli_NB.fit(Xtrain_binar, ytrain);\n",
    "    score = metrics.accuracy_score(yval, clf_Bernoulli_NB.predict(Xval_binar))\n",
    "\n",
    "    val_metric_bnb[threshold] = score"
   ]
  },
  {
   "cell_type": "code",
   "execution_count": 20,
   "metadata": {},
   "outputs": [
    {
     "name": "stdout",
     "output_type": "stream",
     "text": [
      "Best threshold for Bernoulli Naive Bayes:  21\n",
      "Best accuracy of Bernoulli Naive Bayes:  0.9666666666666667\n"
     ]
    }
   ],
   "source": [
    "best_threshold_bnb = 0\n",
    "best_accuracy_bnb = 0 \n",
    "\n",
    "for threshold, score in val_metric_bnb.items():\n",
    "    if score > best_accuracy_bnb:\n",
    "        best_accuracy_bnb = score\n",
    "        best_threshold_bnb = threshold\n",
    "\n",
    "print(\"Best threshold for Bernoulli Naive Bayes: \", best_threshold_bnb)\n",
    "print(\"Best accuracy of Bernoulli Naive Bayes: \", best_accuracy_bnb)\n",
    "\n",
    "accuracy['BernoulliNB'].append(round(best_accuracy_bnb,6))\n",
    "\n",
    "for _ in range(4):\n",
    "    accuracy['BernoulliNB'].append(np.NaN)"
   ]
  },
  {
   "cell_type": "markdown",
   "metadata": {},
   "source": [
    "Vidím, že na původních datech jsem dostal vysokou přesnost pro Bernoulli Naive Bayes"
   ]
  },
  {
   "cell_type": "markdown",
   "metadata": {},
   "source": [
    "Nemůžeme aplikovat model Bernoulli Naive Bayes na datech předzpracovaných pomocí standardizace, MinMax normalizace, PCA a LLE, protože to všechno je metody pro spojité data, ale binární data potřebné pro tento model jsou diskrétní."
   ]
  },
  {
   "cell_type": "markdown",
   "metadata": {},
   "source": [
    "### II(d). Implementace a použití modelů Linear Discriminant Analysis"
   ]
  },
  {
   "cell_type": "markdown",
   "metadata": {},
   "source": [
    "Ted natrénuju modely Linear Discriminant Analysis postupně na původních, standardizaovaných a normalizovaných datech jednotlivě."
   ]
  },
  {
   "cell_type": "code",
   "execution_count": 21,
   "metadata": {},
   "outputs": [
    {
     "name": "stdout",
     "output_type": "stream",
     "text": [
      "Accuracy of Linear Discriminant Analysis: 0.91875\n",
      "Accuracy of Linear Discriminant Analysis Standard: 0.91875\n",
      "Accuracy of Linear Discriminant Analysis MinMax: 0.91875\n"
     ]
    }
   ],
   "source": [
    "from sklearn.discriminant_analysis import LinearDiscriminantAnalysis\n",
    "\n",
    "clf = LinearDiscriminantAnalysis().fit(Xtrain, ytrain)\n",
    "accuracy_score = metrics.accuracy_score(yval, clf.predict(Xval))\n",
    "print(f\"Accuracy of Linear Discriminant Analysis: {accuracy_score}\")\n",
    "accuracy['LDA'].append(round(accuracy_score,6))\n",
    "\n",
    "clf_stand = LinearDiscriminantAnalysis().fit(Xtrain_standard, ytrain)\n",
    "accuracy_score = metrics.accuracy_score(yval, clf_stand.predict(Xval_standard))\n",
    "print(f\"Accuracy of Linear Discriminant Analysis Standard: {accuracy_score}\")\n",
    "accuracy['LDA'].append(round(accuracy_score,6))\n",
    "\n",
    "clf_normal = LinearDiscriminantAnalysis().fit(Xtrain_min_max, ytrain)\n",
    "accuracy_score = metrics.accuracy_score(yval, clf_normal.predict(Xval_min_max))\n",
    "print(f\"Accuracy of Linear Discriminant Analysis MinMax: {accuracy_score}\")\n",
    "accuracy['LDA'].append(round(accuracy_score,6))"
   ]
  },
  {
   "cell_type": "markdown",
   "metadata": {},
   "source": [
    "Vidím, že jsem nedostal žádné změny přesnosti při aplikaci modelů Linear Discriminant Analysis na originálních a předzpracovaných datech"
   ]
  },
  {
   "cell_type": "markdown",
   "metadata": {},
   "source": [
    "### II(e). Aplikace metody Principal Component Analysis "
   ]
  },
  {
   "cell_type": "markdown",
   "metadata": {},
   "source": [
    "#### 1) Support Vector Machine"
   ]
  },
  {
   "cell_type": "markdown",
   "metadata": {},
   "source": [
    "Před použitím modelů Support Vector Machine nastavím limitu na maximální počet iterací na 300000 a zfiltruju varování o konvergenci modelů, protože SVM modely s lineárním kernelem nekonvergujou vždy"
   ]
  },
  {
   "cell_type": "code",
   "execution_count": 22,
   "metadata": {},
   "outputs": [],
   "source": [
    "import warnings\n",
    "from sklearn.exceptions import ConvergenceWarning\n",
    "\n",
    "warnings.filterwarnings(\"ignore\", category=ConvergenceWarning)"
   ]
  },
  {
   "cell_type": "markdown",
   "metadata": {},
   "source": [
    "Rozhodl jsem nastavit maximální počet dimenzí pro naše data na 80, protože pro vyšší počet modely nedává lepší výsledky"
   ]
  },
  {
   "cell_type": "code",
   "execution_count": 23,
   "metadata": {
    "scrolled": true
   },
   "outputs": [],
   "source": [
    "from sklearn.decomposition import PCA\n",
    "\n",
    "svc_pca = {}\n",
    "\n",
    "pca = PCA()\n",
    "pca.fit(Xtrain)                                    \n",
    "Xtrain_pca = pca.fit_transform(Xtrain)\n",
    "Xval_pca = pca.transform(Xval)\n",
    "\n",
    "for n in range(1, 81):\n",
    "    Xsub_train = Xtrain_pca[:,0:n]\n",
    "    Xsub_val = Xval_pca[:,0:n]\n",
    "        \n",
    "    param_grid = {\n",
    "        'C': [0.1, 1, 10, 100, 1000, 10000],  # Regularization parameter\n",
    "        'kernel': ['linear', 'rbf', 'poly', 'sigmoid'],  # Kernel type\n",
    "        'gamma': ['scale', 'auto'],  # Kernel coefficient for 'rbf' kernel,\n",
    "        'max_iter': [30000]\n",
    "    }\n",
    "        \n",
    "    param_comb = ParameterGrid(param_grid)\n",
    "        \n",
    "    val_metric = []\n",
    "        \n",
    "    for params in param_comb:\n",
    "        clf = SVC(**params).fit(Xsub_train, ytrain)\n",
    "        val_metric.append(metrics.accuracy_score(yval, clf.predict(Xsub_val)))\n",
    "\n",
    "    svc_pca[n] = val_metric"
   ]
  },
  {
   "cell_type": "markdown",
   "metadata": {},
   "source": [
    "Hledám pro SVC applikované na předzpracováná pomocí PCA data nejlepší parametry a komponenty a nejvyšší dosaženou přesnost"
   ]
  },
  {
   "cell_type": "code",
   "execution_count": 24,
   "metadata": {},
   "outputs": [
    {
     "name": "stdout",
     "output_type": "stream",
     "text": [
      "Best parameters for Support Vector Machine with PCA: {'C': 10, 'gamma': 'scale', 'kernel': 'rbf', 'max_iter': 30000} 18\n",
      "Best accuracy of Support Vector Machine with PCA: 0.9854166666666667\n"
     ]
    }
   ],
   "source": [
    "best_accuracy_pca_svm = 0\n",
    "best_params_pca_svm = None\n",
    "best_component_pca_svm = 0\n",
    "\n",
    "for n, val_metric in svc_pca.items():\n",
    "    max_val_metric_index = np.argmax(val_metric)\n",
    "    if val_metric[max_val_metric_index] > best_accuracy_pca_svm:\n",
    "        best_accuracy_pca_svm = val_metric[max_val_metric_index]\n",
    "        best_params_pca_svm = list(ParameterGrid(param_grid))[max_val_metric_index]\n",
    "        best_component_pca_svm = n\n",
    "\n",
    "print(\"Best parameters for Support Vector Machine with PCA:\", best_params_pca_svm, best_component_pca_svm)\n",
    "print(\"Best accuracy of Support Vector Machine with PCA:\", best_accuracy_pca_svm)\n",
    "\n",
    "accuracy['SVM'].append(round(best_accuracy_pca_svm,6))"
   ]
  },
  {
   "cell_type": "markdown",
   "metadata": {},
   "source": [
    "#### 2) Gaussian Naive Bayes"
   ]
  },
  {
   "cell_type": "markdown",
   "metadata": {},
   "source": [
    "Udělám to samé i pro modely Gaussian Naive Bayes, ale bez ladění hyperparametrů."
   ]
  },
  {
   "cell_type": "code",
   "execution_count": 25,
   "metadata": {},
   "outputs": [],
   "source": [
    "gnb_pca = {}\n",
    "\n",
    "pca = PCA()\n",
    "pca.fit(Xtrain)                                    \n",
    "Xtrain_pca = pca.fit_transform(Xtrain)\n",
    "Xval_pca = pca.transform(Xval)\n",
    "\n",
    "for n in range(1, 81):\n",
    "    Xsub_train = Xtrain_pca[:,0:n]\n",
    "    Xsub_val = Xval_pca[:,0:n]\n",
    "        \n",
    "    clf_GaussNB = GaussianNB();\n",
    "    clf_GaussNB.fit(Xsub_train, ytrain);\n",
    "    \n",
    "    score = metrics.accuracy_score(yval, clf_GaussNB.predict(Xsub_val))\n",
    "\n",
    "    gnb_pca[n] = score"
   ]
  },
  {
   "cell_type": "markdown",
   "metadata": {},
   "source": [
    "Hledám pro GNB applikované na předzpracováná pomocí PCA data nejlepší komponenty a nejvyšší dosaženou přesnost"
   ]
  },
  {
   "cell_type": "code",
   "execution_count": 26,
   "metadata": {},
   "outputs": [
    {
     "name": "stdout",
     "output_type": "stream",
     "text": [
      "Best parameters for Gaussian Naive Bayes with PCA: 3\n",
      "Best accuracy of Gaussian Naive Bayes with PCA: 0.9395833333333333\n"
     ]
    }
   ],
   "source": [
    "best_accuracy_pca_gnb = 0\n",
    "best_component_pca_gnb = 0\n",
    "\n",
    "for n, score in gnb_pca.items():\n",
    "    if score > best_accuracy_pca_gnb:\n",
    "        best_accuracy_pca_gnb = score\n",
    "        best_component_pca_gnb = n\n",
    "\n",
    "print(\"Best parameters for Gaussian Naive Bayes with PCA:\", best_component_pca_gnb)\n",
    "print(\"Best accuracy of Gaussian Naive Bayes with PCA:\", best_accuracy_pca_gnb)\n",
    "\n",
    "accuracy['GaussianNB'].append(round(best_accuracy_pca_gnb,6))"
   ]
  },
  {
   "cell_type": "markdown",
   "metadata": {},
   "source": [
    "#### 3) Linear Discriminant Analysis"
   ]
  },
  {
   "cell_type": "markdown",
   "metadata": {},
   "source": [
    "Zkusím modely Linear Disrcriminant Analysis s použitím metody Principal Components Analysis"
   ]
  },
  {
   "cell_type": "code",
   "execution_count": 27,
   "metadata": {},
   "outputs": [],
   "source": [
    "lda_pca = {}\n",
    "\n",
    "pca = PCA()\n",
    "pca.fit(Xtrain_binar)                                    \n",
    "Xtrain_pca = pca.fit_transform(Xtrain_binar)\n",
    "Xval_pca = pca.transform(Xval_binar)\n",
    "\n",
    "for n in range(1, 81):\n",
    "    Xsub_train = Xtrain_pca[:,0:n]\n",
    "    Xsub_val = Xval_pca[:,0:n]\n",
    "     \n",
    "    clf = LinearDiscriminantAnalysis().fit(Xsub_train, ytrain)\n",
    "    score = metrics.accuracy_score(yval, clf.predict(Xsub_val))\n",
    "\n",
    "    lda_pca[n] = score"
   ]
  },
  {
   "cell_type": "code",
   "execution_count": 28,
   "metadata": {},
   "outputs": [
    {
     "name": "stdout",
     "output_type": "stream",
     "text": [
      "Best parameters for Linear Discriminant Analysis with PCA: 17\n",
      "Best accuracy of Linear Discriminant Analysis with PCA: 0.8020833333333334\n"
     ]
    }
   ],
   "source": [
    "best_accuracy_pca_lda = 0\n",
    "best_component_pca_lda = 0\n",
    "\n",
    "for n, score in lda_pca.items():\n",
    "    if score > best_accuracy_pca_lda:\n",
    "        best_accuracy_pca_lda = score\n",
    "        best_component_pca_lda = n\n",
    "\n",
    "\n",
    "print(\"Best parameters for Linear Discriminant Analysis with PCA:\", best_component_pca_lda)\n",
    "print(\"Best accuracy of Linear Discriminant Analysis with PCA:\", best_accuracy_pca_lda)\n",
    "\n",
    "accuracy['LDA'].append(round(best_accuracy_pca_lda,6))"
   ]
  },
  {
   "cell_type": "markdown",
   "metadata": {},
   "source": [
    "### II(f). Aplikace metody Locally Linear Embedding"
   ]
  },
  {
   "cell_type": "markdown",
   "metadata": {},
   "source": [
    "#### 1) Support Vector Machine"
   ]
  },
  {
   "cell_type": "markdown",
   "metadata": {},
   "source": [
    "Nejprve zkusím modely Support Vector Classifier"
   ]
  },
  {
   "cell_type": "code",
   "execution_count": 29,
   "metadata": {},
   "outputs": [],
   "source": [
    "from sklearn.manifold import LocallyLinearEmbedding\n",
    "\n",
    "svc_lle = {}\n",
    "\n",
    "for n in range(1,81):\n",
    "    lle = LocallyLinearEmbedding(n_components = n, n_neighbors=5)\n",
    "    Xsub_train = lle.fit_transform(Xtrain)\n",
    "    Xsub_val = lle.transform(Xval)\n",
    "    param_grid = {\n",
    "            'C': [0.1, 1, 10, 100, 1000, 10000],  # Regularization parameter\n",
    "            'kernel': ['linear', 'rbf', 'poly', 'sigmoid'],  # Kernel type\n",
    "            'gamma': ['scale', 'auto'],  # Kernel coefficient for 'rbf' kernel,\n",
    "            'max_iter': [30000]\n",
    "        }\n",
    "            \n",
    "    param_comb = ParameterGrid(param_grid)\n",
    "            \n",
    "    val_metric = []\n",
    "            \n",
    "    for params in param_comb:\n",
    "        clf = SVC(**params).fit(Xsub_train, ytrain)\n",
    "        val_metric.append(metrics.accuracy_score(yval, clf.predict(Xsub_val)))\n",
    "    \n",
    "    svc_lle[n] = val_metric"
   ]
  },
  {
   "cell_type": "markdown",
   "metadata": {},
   "source": [
    "Hledám pro SVC applikované na předzpracováná pomocí LLE data nejlepší parametry a komponenty a nejvyšší dosaženou přesnost"
   ]
  },
  {
   "cell_type": "code",
   "execution_count": 30,
   "metadata": {},
   "outputs": [
    {
     "name": "stdout",
     "output_type": "stream",
     "text": [
      "Best parameters for Support Vector Machine with LLE: {'C': 10, 'gamma': 'scale', 'kernel': 'poly', 'max_iter': 30000} 25\n",
      "Best accuracy of Support Vector Machine with LLE: 0.9833333333333333\n"
     ]
    }
   ],
   "source": [
    "best_accuracy_lle_svm = 0\n",
    "best_params_lle_svm = None\n",
    "best_component_lle_svm = 0\n",
    "\n",
    "for n, val_metric in svc_lle.items():\n",
    "    max_val_metric_index = np.argmax(val_metric)\n",
    "    if val_metric[max_val_metric_index] > best_accuracy_lle_svm:\n",
    "        best_accuracy_lle_svm = val_metric[max_val_metric_index]\n",
    "        best_params_lle_svm = list(ParameterGrid(param_grid))[max_val_metric_index]\n",
    "        best_component_lle_svm = n\n",
    "\n",
    "print(\"Best parameters for Support Vector Machine with LLE:\", best_params_lle_svm, best_component_lle_svm)\n",
    "print(\"Best accuracy of Support Vector Machine with LLE:\", best_accuracy_lle_svm)\n",
    "\n",
    "accuracy['SVM'].append(round(best_accuracy_lle_svm, 6))"
   ]
  },
  {
   "cell_type": "markdown",
   "metadata": {},
   "source": [
    "#### 2) Gaussian Naive Bayes"
   ]
  },
  {
   "cell_type": "markdown",
   "metadata": {},
   "source": [
    "Ted použiju modely Gaussian Naive Bayes"
   ]
  },
  {
   "cell_type": "code",
   "execution_count": 31,
   "metadata": {},
   "outputs": [],
   "source": [
    "gnb_lle = {}\n",
    "\n",
    "for n in range(1,81):\n",
    "    lle = LocallyLinearEmbedding(n_components = n, n_neighbors=5)\n",
    "    Xsub_train = lle.fit_transform(Xtrain)\n",
    "    Xsub_val = lle.transform(Xval)\n",
    "\n",
    "    clf_GaussNB = GaussianNB();\n",
    "    clf_GaussNB.fit(Xsub_train, ytrain);\n",
    "    \n",
    "    score = metrics.accuracy_score(yval, clf_GaussNB.predict(Xsub_val))\n",
    "\n",
    "    gnb_lle[n] = score"
   ]
  },
  {
   "cell_type": "markdown",
   "metadata": {},
   "source": [
    "Hledám pro GNB applikované na předzpracováná pomocí LLE data nejlepší komponenty a nejvyšší dosaženou přesnost"
   ]
  },
  {
   "cell_type": "code",
   "execution_count": 32,
   "metadata": {},
   "outputs": [
    {
     "name": "stdout",
     "output_type": "stream",
     "text": [
      "Best parameters for Gaussian Naive Bayes with LLE: 74\n",
      "Best accuracy of Gaussian Naive Bayes with LLE: 0.9770833333333333\n"
     ]
    }
   ],
   "source": [
    "best_accuracy_lle_gnb = 0\n",
    "best_component_lle_gnb = 0\n",
    "\n",
    "for n, score in gnb_lle.items():\n",
    "    if score > best_accuracy_lle_gnb:\n",
    "        best_accuracy_lle_gnb = score\n",
    "        best_component_lle_gnb = n\n",
    "\n",
    "print(\"Best parameters for Gaussian Naive Bayes with LLE:\", best_component_lle_gnb)\n",
    "print(\"Best accuracy of Gaussian Naive Bayes with LLE:\", best_accuracy_lle_gnb)\n",
    "\n",
    "accuracy['GaussianNB'].append(round(best_accuracy_lle_gnb,6))"
   ]
  },
  {
   "cell_type": "markdown",
   "metadata": {},
   "source": [
    "#### 3) Liniear Discriminant Analysis"
   ]
  },
  {
   "cell_type": "markdown",
   "metadata": {},
   "source": [
    "Použiju modely Linear Discriminant Analysis na data předzpracovaná pomocí Locally Linear Embedding"
   ]
  },
  {
   "cell_type": "code",
   "execution_count": 33,
   "metadata": {},
   "outputs": [],
   "source": [
    "lda_lle = {}\n",
    "\n",
    "for n in range(1, 81):\n",
    "    lle = LocallyLinearEmbedding(n_components = n, n_neighbors=5)\n",
    "    Xsub_train = lle.fit_transform(Xtrain)\n",
    "    Xsub_val = lle.transform(Xval)\n",
    "    \n",
    "    clf = LinearDiscriminantAnalysis().fit(Xsub_train, ytrain)\n",
    "    score = metrics.accuracy_score(yval, clf.predict(Xsub_val))\n",
    "\n",
    "    lda_lle[n] = score"
   ]
  },
  {
   "cell_type": "markdown",
   "metadata": {},
   "source": [
    "Hledám pro LDA applikované na předzpracováná pomocí LLE data nejlepší komponenty a nejvyšší dosaženou přesnost"
   ]
  },
  {
   "cell_type": "code",
   "execution_count": 34,
   "metadata": {},
   "outputs": [
    {
     "name": "stdout",
     "output_type": "stream",
     "text": [
      "Best parameters for Linear Discriminant Analysis with LLE: 55\n",
      "Best accuracy of Linear Discriminant Analysis with LLE: 0.975\n"
     ]
    }
   ],
   "source": [
    "best_accuracy_lle_lda = 0\n",
    "best_component_lle_lda = 0\n",
    "\n",
    "for n, score in lda_lle.items():\n",
    "    if score > best_accuracy_lle_lda:\n",
    "        best_accuracy_lle_lda = score\n",
    "        best_component_lle_lda = n\n",
    "\n",
    "\n",
    "print(\"Best parameters for Linear Discriminant Analysis with LLE:\", best_component_lle_lda)\n",
    "print(\"Best accuracy of Linear Discriminant Analysis with LLE:\", best_accuracy_lle_lda)\n",
    "\n",
    "accuracy['LDA'].append(round(best_accuracy_lle_lda,6))"
   ]
  },
  {
   "cell_type": "markdown",
   "metadata": {},
   "source": [
    "## III. Finální model"
   ]
  },
  {
   "cell_type": "markdown",
   "metadata": {},
   "source": [
    "Udělám dataset přesností všech modelů s nejlepšími hyperparametry pro lehčí hledání nejlepšího modelu ze všech výše natrénovaných modelů"
   ]
  },
  {
   "cell_type": "code",
   "execution_count": 35,
   "metadata": {},
   "outputs": [
    {
     "name": "stdout",
     "output_type": "stream",
     "text": [
      "               SVM  GaussianNB  BernoulliNB       LDA\n",
      "Original  0.970833    0.920833     0.966667  0.918750\n",
      "Standard  0.972917    0.929167          NaN  0.918750\n",
      "MinMax    0.970833    0.927083          NaN  0.918750\n",
      "PCA       0.985417    0.939583          NaN  0.802083\n",
      "LLE       0.983333    0.977083          NaN  0.975000\n"
     ]
    }
   ],
   "source": [
    "rows_name = ['Original', 'Standard', 'MinMax', 'PCA', 'LLE']\n",
    "accuracy_df = pd.DataFrame(accuracy, rows_name)\n",
    "\n",
    "print(accuracy_df)"
   ]
  },
  {
   "cell_type": "code",
   "execution_count": 36,
   "metadata": {},
   "outputs": [
    {
     "name": "stdout",
     "output_type": "stream",
     "text": [
      "Highest Accuracy Score: 0.985417\n",
      "Final model:  SVM\n",
      "Method of data processing:  PCA\n"
     ]
    }
   ],
   "source": [
    "highest_accuracy_score = accuracy_df.max(axis=0).max()\n",
    "model_name = accuracy_df.max().idxmax()\n",
    "row_name = accuracy_df[model_name].idxmax()\n",
    "\n",
    "print(\"Highest Accuracy Score:\", highest_accuracy_score)\n",
    "print(\"Final model: \", model_name)\n",
    "print(\"Method of data processing: \",row_name)"
   ]
  },
  {
   "cell_type": "markdown",
   "metadata": {},
   "source": [
    "Vidím, že můj nelepší model je model Support Vector Machine s daty předzpracovanými pomocí Principal Components Analysis.\n",
    "Ted zkusím tento model na testovacíh datech, která doposud neviděl."
   ]
  },
  {
   "cell_type": "code",
   "execution_count": 37,
   "metadata": {},
   "outputs": [
    {
     "name": "stdout",
     "output_type": "stream",
     "text": [
      "Optimal number of principal components:  18\n",
      "Best hyperparameters for Support Vector Machine:  {'C': 10, 'gamma': 'scale', 'kernel': 'rbf', 'max_iter': 30000}\n",
      "Test accuracy of final model:  0.977083\n"
     ]
    }
   ],
   "source": [
    "pca = PCA()\n",
    "pca.fit(Xtrain)                                    \n",
    "Xtrain_pca = pca.fit_transform(Xtrain)\n",
    "Xtest_pca = pca.transform(Xtest)\n",
    "\n",
    "Xsub_train = Xtrain_pca[:,0:best_component_pca_svm]\n",
    "Xsub_test = Xtest_pca[:,0:best_component_pca_svm]\n",
    "\n",
    "best_clf = SVC(**best_params_pca_svm).fit(Xsub_train, ytrain)\n",
    "y_pred = best_clf.predict(Xsub_test)\n",
    "\n",
    "test_acc = metrics.accuracy_score(ytest, y_pred)\n",
    "\n",
    "print(\"Optimal number of principal components: \",best_component_pca_svm)\n",
    "print(\"Best hyperparameters for Support Vector Machine: \", best_params_pca_svm)\n",
    "print(\"Test accuracy of final model: \", round(test_acc,6))"
   ]
  },
  {
   "cell_type": "markdown",
   "metadata": {},
   "source": [
    "Vidím, že jsem dostal na testovacích datech skoro dokonalou přesnost"
   ]
  },
  {
   "cell_type": "markdown",
   "metadata": {},
   "source": [
    "## IV.Predikce pomocí finálního modelu"
   ]
  },
  {
   "cell_type": "markdown",
   "metadata": {},
   "source": [
    "Uložím data na vyhodnocování do dataframu, aplikuju všechny manipulace pro nej, abych mohl správně použít můj finální model"
   ]
  },
  {
   "cell_type": "code",
   "execution_count": 38,
   "metadata": {},
   "outputs": [
    {
     "data": {
      "text/html": [
       "<div>\n",
       "<style scoped>\n",
       "    .dataframe tbody tr th:only-of-type {\n",
       "        vertical-align: middle;\n",
       "    }\n",
       "\n",
       "    .dataframe tbody tr th {\n",
       "        vertical-align: top;\n",
       "    }\n",
       "\n",
       "    .dataframe thead th {\n",
       "        text-align: right;\n",
       "    }\n",
       "</style>\n",
       "<table border=\"1\" class=\"dataframe\">\n",
       "  <thead>\n",
       "    <tr style=\"text-align: right;\">\n",
       "      <th></th>\n",
       "      <th>ID</th>\n",
       "      <th>pixel1</th>\n",
       "      <th>pixel2</th>\n",
       "      <th>pixel3</th>\n",
       "      <th>pixel4</th>\n",
       "      <th>pixel5</th>\n",
       "      <th>pixel6</th>\n",
       "      <th>pixel7</th>\n",
       "      <th>pixel8</th>\n",
       "      <th>pixel9</th>\n",
       "      <th>...</th>\n",
       "      <th>pixel775</th>\n",
       "      <th>pixel776</th>\n",
       "      <th>pixel777</th>\n",
       "      <th>pixel778</th>\n",
       "      <th>pixel779</th>\n",
       "      <th>pixel780</th>\n",
       "      <th>pixel781</th>\n",
       "      <th>pixel782</th>\n",
       "      <th>pixel783</th>\n",
       "      <th>pixel784</th>\n",
       "    </tr>\n",
       "  </thead>\n",
       "  <tbody>\n",
       "    <tr>\n",
       "      <th>0</th>\n",
       "      <td>0</td>\n",
       "      <td>0</td>\n",
       "      <td>0</td>\n",
       "      <td>0</td>\n",
       "      <td>0</td>\n",
       "      <td>0</td>\n",
       "      <td>0</td>\n",
       "      <td>0</td>\n",
       "      <td>0</td>\n",
       "      <td>0</td>\n",
       "      <td>...</td>\n",
       "      <td>0</td>\n",
       "      <td>0</td>\n",
       "      <td>0</td>\n",
       "      <td>0</td>\n",
       "      <td>0</td>\n",
       "      <td>0</td>\n",
       "      <td>0</td>\n",
       "      <td>0</td>\n",
       "      <td>0</td>\n",
       "      <td>0</td>\n",
       "    </tr>\n",
       "    <tr>\n",
       "      <th>1</th>\n",
       "      <td>1</td>\n",
       "      <td>0</td>\n",
       "      <td>0</td>\n",
       "      <td>0</td>\n",
       "      <td>0</td>\n",
       "      <td>0</td>\n",
       "      <td>0</td>\n",
       "      <td>0</td>\n",
       "      <td>0</td>\n",
       "      <td>0</td>\n",
       "      <td>...</td>\n",
       "      <td>61</td>\n",
       "      <td>0</td>\n",
       "      <td>0</td>\n",
       "      <td>0</td>\n",
       "      <td>0</td>\n",
       "      <td>0</td>\n",
       "      <td>0</td>\n",
       "      <td>0</td>\n",
       "      <td>0</td>\n",
       "      <td>0</td>\n",
       "    </tr>\n",
       "    <tr>\n",
       "      <th>2</th>\n",
       "      <td>2</td>\n",
       "      <td>0</td>\n",
       "      <td>0</td>\n",
       "      <td>0</td>\n",
       "      <td>0</td>\n",
       "      <td>0</td>\n",
       "      <td>0</td>\n",
       "      <td>0</td>\n",
       "      <td>0</td>\n",
       "      <td>0</td>\n",
       "      <td>...</td>\n",
       "      <td>109</td>\n",
       "      <td>121</td>\n",
       "      <td>76</td>\n",
       "      <td>0</td>\n",
       "      <td>0</td>\n",
       "      <td>0</td>\n",
       "      <td>0</td>\n",
       "      <td>0</td>\n",
       "      <td>0</td>\n",
       "      <td>0</td>\n",
       "    </tr>\n",
       "    <tr>\n",
       "      <th>3</th>\n",
       "      <td>3</td>\n",
       "      <td>0</td>\n",
       "      <td>0</td>\n",
       "      <td>0</td>\n",
       "      <td>0</td>\n",
       "      <td>0</td>\n",
       "      <td>0</td>\n",
       "      <td>0</td>\n",
       "      <td>0</td>\n",
       "      <td>0</td>\n",
       "      <td>...</td>\n",
       "      <td>0</td>\n",
       "      <td>1</td>\n",
       "      <td>0</td>\n",
       "      <td>0</td>\n",
       "      <td>0</td>\n",
       "      <td>0</td>\n",
       "      <td>0</td>\n",
       "      <td>0</td>\n",
       "      <td>0</td>\n",
       "      <td>0</td>\n",
       "    </tr>\n",
       "    <tr>\n",
       "      <th>4</th>\n",
       "      <td>4</td>\n",
       "      <td>0</td>\n",
       "      <td>0</td>\n",
       "      <td>0</td>\n",
       "      <td>0</td>\n",
       "      <td>0</td>\n",
       "      <td>0</td>\n",
       "      <td>0</td>\n",
       "      <td>3</td>\n",
       "      <td>0</td>\n",
       "      <td>...</td>\n",
       "      <td>198</td>\n",
       "      <td>195</td>\n",
       "      <td>206</td>\n",
       "      <td>0</td>\n",
       "      <td>0</td>\n",
       "      <td>0</td>\n",
       "      <td>0</td>\n",
       "      <td>0</td>\n",
       "      <td>0</td>\n",
       "      <td>0</td>\n",
       "    </tr>\n",
       "  </tbody>\n",
       "</table>\n",
       "<p>5 rows × 785 columns</p>\n",
       "</div>"
      ],
      "text/plain": [
       "   ID  pixel1  pixel2  pixel3  pixel4  pixel5  pixel6  pixel7  pixel8  pixel9  \\\n",
       "0   0       0       0       0       0       0       0       0       0       0   \n",
       "1   1       0       0       0       0       0       0       0       0       0   \n",
       "2   2       0       0       0       0       0       0       0       0       0   \n",
       "3   3       0       0       0       0       0       0       0       0       0   \n",
       "4   4       0       0       0       0       0       0       0       3       0   \n",
       "\n",
       "   ...  pixel775  pixel776  pixel777  pixel778  pixel779  pixel780  pixel781  \\\n",
       "0  ...         0         0         0         0         0         0         0   \n",
       "1  ...        61         0         0         0         0         0         0   \n",
       "2  ...       109       121        76         0         0         0         0   \n",
       "3  ...         0         1         0         0         0         0         0   \n",
       "4  ...       198       195       206         0         0         0         0   \n",
       "\n",
       "   pixel782  pixel783  pixel784  \n",
       "0         0         0         0  \n",
       "1         0         0         0  \n",
       "2         0         0         0  \n",
       "3         0         0         0  \n",
       "4         0         0         0  \n",
       "\n",
       "[5 rows x 785 columns]"
      ]
     },
     "metadata": {},
     "output_type": "display_data"
    }
   ],
   "source": [
    "eval_df = pd.read_csv('evaluate.csv')\n",
    "display(eval_df.head())\n",
    "\n",
    "ID = eval_df['ID']\n",
    "eval_df = eval_df.drop('ID', axis=1)\n",
    "\n",
    "pca = PCA()\n",
    "pca.fit(Xtrain)                                    \n",
    "Xtrain_pca = pca.fit_transform(Xtrain)\n",
    "eval_data = pca.transform(eval_df)\n",
    "\n",
    "Xsub_train = Xtrain_pca[:,0:best_component_pca_svm]\n",
    "eval_data = eval_data[:,0:best_component_pca_svm]\n",
    "\n",
    "best_clf = SVC(**best_params_pca_svm).fit(Xsub_train, ytrain)\n",
    "label = best_clf.predict(eval_data)"
   ]
  },
  {
   "cell_type": "code",
   "execution_count": 39,
   "metadata": {},
   "outputs": [
    {
     "data": {
      "text/html": [
       "<div>\n",
       "<style scoped>\n",
       "    .dataframe tbody tr th:only-of-type {\n",
       "        vertical-align: middle;\n",
       "    }\n",
       "\n",
       "    .dataframe tbody tr th {\n",
       "        vertical-align: top;\n",
       "    }\n",
       "\n",
       "    .dataframe thead th {\n",
       "        text-align: right;\n",
       "    }\n",
       "</style>\n",
       "<table border=\"1\" class=\"dataframe\">\n",
       "  <thead>\n",
       "    <tr style=\"text-align: right;\">\n",
       "      <th></th>\n",
       "      <th>ID</th>\n",
       "      <th>label</th>\n",
       "    </tr>\n",
       "  </thead>\n",
       "  <tbody>\n",
       "    <tr>\n",
       "      <th>0</th>\n",
       "      <td>0</td>\n",
       "      <td>1</td>\n",
       "    </tr>\n",
       "    <tr>\n",
       "      <th>1</th>\n",
       "      <td>1</td>\n",
       "      <td>0</td>\n",
       "    </tr>\n",
       "    <tr>\n",
       "      <th>2</th>\n",
       "      <td>2</td>\n",
       "      <td>1</td>\n",
       "    </tr>\n",
       "    <tr>\n",
       "      <th>3</th>\n",
       "      <td>3</td>\n",
       "      <td>0</td>\n",
       "    </tr>\n",
       "    <tr>\n",
       "      <th>4</th>\n",
       "      <td>4</td>\n",
       "      <td>1</td>\n",
       "    </tr>\n",
       "    <tr>\n",
       "      <th>5</th>\n",
       "      <td>5</td>\n",
       "      <td>0</td>\n",
       "    </tr>\n",
       "    <tr>\n",
       "      <th>6</th>\n",
       "      <td>6</td>\n",
       "      <td>1</td>\n",
       "    </tr>\n",
       "    <tr>\n",
       "      <th>7</th>\n",
       "      <td>7</td>\n",
       "      <td>1</td>\n",
       "    </tr>\n",
       "    <tr>\n",
       "      <th>8</th>\n",
       "      <td>8</td>\n",
       "      <td>0</td>\n",
       "    </tr>\n",
       "    <tr>\n",
       "      <th>9</th>\n",
       "      <td>9</td>\n",
       "      <td>1</td>\n",
       "    </tr>\n",
       "    <tr>\n",
       "      <th>10</th>\n",
       "      <td>10</td>\n",
       "      <td>0</td>\n",
       "    </tr>\n",
       "    <tr>\n",
       "      <th>11</th>\n",
       "      <td>11</td>\n",
       "      <td>1</td>\n",
       "    </tr>\n",
       "    <tr>\n",
       "      <th>12</th>\n",
       "      <td>12</td>\n",
       "      <td>1</td>\n",
       "    </tr>\n",
       "    <tr>\n",
       "      <th>13</th>\n",
       "      <td>13</td>\n",
       "      <td>1</td>\n",
       "    </tr>\n",
       "    <tr>\n",
       "      <th>14</th>\n",
       "      <td>14</td>\n",
       "      <td>0</td>\n",
       "    </tr>\n",
       "  </tbody>\n",
       "</table>\n",
       "</div>"
      ],
      "text/plain": [
       "    ID  label\n",
       "0    0      1\n",
       "1    1      0\n",
       "2    2      1\n",
       "3    3      0\n",
       "4    4      1\n",
       "5    5      0\n",
       "6    6      1\n",
       "7    7      1\n",
       "8    8      0\n",
       "9    9      1\n",
       "10  10      0\n",
       "11  11      1\n",
       "12  12      1\n",
       "13  13      1\n",
       "14  14      0"
      ]
     },
     "execution_count": 39,
     "metadata": {},
     "output_type": "execute_result"
    }
   ],
   "source": [
    "results_df = pd.DataFrame({'ID': ID, 'label': label})\n",
    "results_df.head(15)"
   ]
  },
  {
   "cell_type": "markdown",
   "metadata": {},
   "source": [
    "Zobrazím několik prvních obrazků s predikovanými labely"
   ]
  },
  {
   "cell_type": "code",
   "execution_count": 40,
   "metadata": {},
   "outputs": [
    {
     "data": {
      "image/png": "[encoded data removed]",
      "text/plain": [
       "<Figure size 800x800 with 16 Axes>"
      ]
     },
     "metadata": {},
     "output_type": "display_data"
    }
   ],
   "source": [
    "fig, axs = plt.subplots(4, 4, figsize=(8,8))\n",
    "axs = axs.flatten()\n",
    "\n",
    "for image_index, ax in enumerate(axs):\n",
    "    image_pixels = eval_df.iloc[image_index].values\n",
    "    # Reshape the pixel values into a 28x28 image\n",
    "    image = image_pixels.reshape(28, 28)\n",
    "    label_image = results_df['label'][image_index]\n",
    "    \n",
    "    ax.imshow(image, cmap='gray', extent=[0, 1, 0, 1])\n",
    "    ax.set_title(f\"Label: {label_image}\")\n",
    "    ax.axis('off')\n",
    "\n",
    "plt.tight_layout()  # Adjust layout to prevent overlapping\n",
    "plt.show()"
   ]
  },
  {
   "cell_type": "markdown",
   "metadata": {},
   "source": [
    "Uložím náš dataset to csv-souboru."
   ]
  },
  {
   "cell_type": "code",
   "execution_count": 41,
   "metadata": {},
   "outputs": [],
   "source": [
    "results_df.to_csv('results.csv', index=False)"
   ]
  },
  {
   "cell_type": "code",
   "execution_count": null,
   "metadata": {},
   "outputs": [],
   "source": []
  }
 ],
 "metadata": {
  "kernelspec": {
   "display_name": "Python 3 (ipykernel)",
   "language": "python",
   "name": "python3"
  },
  "language_info": {
   "codemirror_mode": {
    "name": "ipython",
    "version": 3
   },
   "file_extension": ".py",
   "mimetype": "text/x-python",
   "name": "python",
   "nbconvert_exporter": "python",
   "pygments_lexer": "ipython3",
   "version": "3.10.1"
  }
 },
 "nbformat": 4,
 "nbformat_minor": 4
}
